{
 "cells": [
  {
   "cell_type": "code",
   "execution_count": 0,
   "metadata": {
    "application/vnd.databricks.v1+cell": {
     "cellMetadata": {
      "byteLimit": 2048000,
      "rowLimit": 10000
     },
     "inputWidgets": {},
     "nuid": "e85bf0d1-7780-4dec-b7b5-b94c15d783cf",
     "showTitle": true,
     "title": "Spark Session"
    }
   },
   "outputs": [],
   "source": [
    "from pyspark.sql import SparkSession\n",
    "spark = SparkSession.builder.getOrCreate()"
   ]
  },
  {
   "cell_type": "code",
   "execution_count": 0,
   "metadata": {
    "application/vnd.databricks.v1+cell": {
     "cellMetadata": {
      "byteLimit": 2048000,
      "implicitDf": true,
      "rowLimit": 10000
     },
     "inputWidgets": {},
     "nuid": "a7aa561b-22a9-4309-a239-cf488d2ff744",
     "showTitle": true,
     "title": "Creating Sales Table"
    }
   },
   "outputs": [
    {
     "output_type": "display_data",
     "data": {
      "text/html": [
       "<style scoped>\n",
       "  .table-result-container {\n",
       "    max-height: 300px;\n",
       "    overflow: auto;\n",
       "  }\n",
       "  table, th, td {\n",
       "    border: 1px solid black;\n",
       "    border-collapse: collapse;\n",
       "  }\n",
       "  th, td {\n",
       "    padding: 5px;\n",
       "  }\n",
       "  th {\n",
       "    text-align: left;\n",
       "  }\n",
       "</style><div class='table-result-container'><table class='table-result'><thead style='background-color: white'><tr><th>num_affected_rows</th><th>num_inserted_rows</th></tr></thead><tbody><tr><td>15</td><td>15</td></tr></tbody></table></div>"
      ]
     },
     "metadata": {
      "application/vnd.databricks.v1+output": {
       "addedWidgets": {},
       "aggData": [],
       "aggError": "",
       "aggOverflow": false,
       "aggSchema": [],
       "aggSeriesLimitReached": false,
       "aggType": "",
       "arguments": {},
       "columnCustomDisplayInfos": {},
       "data": [
        [
         15,
         15
        ]
       ],
       "datasetInfos": [
        {
         "name": "_sqldf",
         "schema": {
          "fields": [
           {
            "metadata": {},
            "name": "num_affected_rows",
            "nullable": true,
            "type": "long"
           },
           {
            "metadata": {},
            "name": "num_inserted_rows",
            "nullable": true,
            "type": "long"
           }
          ],
          "type": "struct"
         },
         "tableIdentifier": null,
         "typeStr": "pyspark.sql.dataframe.DataFrame"
        }
       ],
       "dbfsResultPath": null,
       "isJsonSchema": true,
       "metadata": {
        "dataframeName": "_sqldf",
        "executionCount": 2
       },
       "overflow": false,
       "plotOptions": {
        "customPlotOptions": {},
        "displayType": "table",
        "pivotAggregation": null,
        "pivotColumns": null,
        "xColumns": null,
        "yColumns": null
       },
       "removedWidgets": [],
       "schema": [
        {
         "metadata": "{}",
         "name": "num_affected_rows",
         "type": "\"long\""
        },
        {
         "metadata": "{}",
         "name": "num_inserted_rows",
         "type": "\"long\""
        }
       ],
       "type": "table"
      }
     },
     "output_type": "display_data"
    }
   ],
   "source": [
    "%sql\n",
    "--Creating sales table:\n",
    "\n",
    "CREATE OR REPLACE TABLE sales(\n",
    "  customer_id VARCHAR(1),\n",
    "  order_date DATE,\n",
    "  product_id INTEGER\n",
    ");\n",
    "\n",
    "INSERT INTO sales\n",
    "  (customer_id, order_date, product_id)\n",
    "VALUES\n",
    "  ('A', '2021-01-01', '1'),\n",
    "  ('A', '2021-01-01', '2'),\n",
    "  ('A', '2021-01-07', '2'),\n",
    "  ('A', '2021-01-10', '3'),\n",
    "  ('A', '2021-01-11', '3'),\n",
    "  ('A', '2021-01-11', '3'),\n",
    "  ('B', '2021-01-01', '2'),\n",
    "  ('B', '2021-01-02', '2'),\n",
    "  ('B', '2021-01-04', '1'),\n",
    "  ('B', '2021-01-11', '1'),\n",
    "  ('B', '2021-01-16', '3'),\n",
    "  ('B', '2021-02-01', '3'),\n",
    "  ('C', '2021-01-01', '3'),\n",
    "  ('C', '2021-01-01', '3'),\n",
    "  ('C', '2021-01-07', '3');"
   ]
  },
  {
   "cell_type": "code",
   "execution_count": 0,
   "metadata": {
    "application/vnd.databricks.v1+cell": {
     "cellMetadata": {
      "byteLimit": 2048000,
      "rowLimit": 10000
     },
     "inputWidgets": {},
     "nuid": "cbbb0ffa-ef71-4ea9-8499-69b6a1f2059f",
     "showTitle": true,
     "title": "Reading Data into Sales DF"
    }
   },
   "outputs": [
    {
     "output_type": "stream",
     "name": "stdout",
     "output_type": "stream",
     "text": [
      "+-----------+----------+----------+\n|customer_id|order_date|product_id|\n+-----------+----------+----------+\n|          A|2021-01-01|         1|\n|          A|2021-01-01|         2|\n|          A|2021-01-07|         2|\n|          A|2021-01-10|         3|\n|          A|2021-01-11|         3|\n|          A|2021-01-11|         3|\n|          B|2021-01-01|         2|\n|          B|2021-01-02|         2|\n|          B|2021-01-04|         1|\n|          B|2021-01-11|         1|\n|          B|2021-01-16|         3|\n|          B|2021-02-01|         3|\n|          C|2021-01-01|         3|\n|          C|2021-01-01|         3|\n|          C|2021-01-07|         3|\n+-----------+----------+----------+\n\n"
     ]
    }
   ],
   "source": [
    "sales_df = spark.read.table(\"sales\")\n",
    "sales_df.show()"
   ]
  },
  {
   "cell_type": "code",
   "execution_count": 0,
   "metadata": {
    "application/vnd.databricks.v1+cell": {
     "cellMetadata": {
      "byteLimit": 2048000,
      "implicitDf": true,
      "rowLimit": 10000
     },
     "inputWidgets": {},
     "nuid": "bab0ec9d-a6de-4fcd-9bdd-a1445adbd7ab",
     "showTitle": true,
     "title": "Creating Menu Table"
    }
   },
   "outputs": [
    {
     "output_type": "display_data",
     "data": {
      "text/html": [
       "<style scoped>\n",
       "  .table-result-container {\n",
       "    max-height: 300px;\n",
       "    overflow: auto;\n",
       "  }\n",
       "  table, th, td {\n",
       "    border: 1px solid black;\n",
       "    border-collapse: collapse;\n",
       "  }\n",
       "  th, td {\n",
       "    padding: 5px;\n",
       "  }\n",
       "  th {\n",
       "    text-align: left;\n",
       "  }\n",
       "</style><div class='table-result-container'><table class='table-result'><thead style='background-color: white'><tr><th>num_affected_rows</th><th>num_inserted_rows</th></tr></thead><tbody><tr><td>3</td><td>3</td></tr></tbody></table></div>"
      ]
     },
     "metadata": {
      "application/vnd.databricks.v1+output": {
       "addedWidgets": {},
       "aggData": [],
       "aggError": "",
       "aggOverflow": false,
       "aggSchema": [],
       "aggSeriesLimitReached": false,
       "aggType": "",
       "arguments": {},
       "columnCustomDisplayInfos": {},
       "data": [
        [
         3,
         3
        ]
       ],
       "datasetInfos": [
        {
         "name": "_sqldf",
         "schema": {
          "fields": [
           {
            "metadata": {},
            "name": "num_affected_rows",
            "nullable": true,
            "type": "long"
           },
           {
            "metadata": {},
            "name": "num_inserted_rows",
            "nullable": true,
            "type": "long"
           }
          ],
          "type": "struct"
         },
         "tableIdentifier": null,
         "typeStr": "pyspark.sql.dataframe.DataFrame"
        }
       ],
       "dbfsResultPath": null,
       "isJsonSchema": true,
       "metadata": {
        "dataframeName": "_sqldf",
        "executionCount": 4
       },
       "overflow": false,
       "plotOptions": {
        "customPlotOptions": {},
        "displayType": "table",
        "pivotAggregation": null,
        "pivotColumns": null,
        "xColumns": null,
        "yColumns": null
       },
       "removedWidgets": [],
       "schema": [
        {
         "metadata": "{}",
         "name": "num_affected_rows",
         "type": "\"long\""
        },
        {
         "metadata": "{}",
         "name": "num_inserted_rows",
         "type": "\"long\""
        }
       ],
       "type": "table"
      }
     },
     "output_type": "display_data"
    }
   ],
   "source": [
    "%sql\n",
    "--Creating Menu table:\n",
    "\n",
    "CREATE OR REPLACE TABLE menu (\n",
    "  product_id INTEGER,\n",
    "  product_name VARCHAR(5),\n",
    "  price INTEGER\n",
    ");\n",
    "\n",
    "INSERT INTO menu\n",
    "  (product_id, product_name, price)\n",
    "VALUES\n",
    "  ('1', 'sushi', '10'),\n",
    "  ('2', 'curry', '15'),\n",
    "  ('3', 'ramen', '12');\n"
   ]
  },
  {
   "cell_type": "code",
   "execution_count": 0,
   "metadata": {
    "application/vnd.databricks.v1+cell": {
     "cellMetadata": {
      "byteLimit": 2048000,
      "rowLimit": 10000
     },
     "inputWidgets": {},
     "nuid": "66dfd1a2-2609-4d96-9642-5eeb82c929db",
     "showTitle": true,
     "title": "Reading Data into Menu DF"
    }
   },
   "outputs": [
    {
     "output_type": "stream",
     "name": "stdout",
     "output_type": "stream",
     "text": [
      "+----------+------------+-----+\n|product_id|product_name|price|\n+----------+------------+-----+\n|         1|       sushi|   10|\n|         2|       curry|   15|\n|         3|       ramen|   12|\n+----------+------------+-----+\n\n"
     ]
    }
   ],
   "source": [
    "menu_df = spark.read.table(\"menu\")\n",
    "menu_df.show()"
   ]
  },
  {
   "cell_type": "code",
   "execution_count": 0,
   "metadata": {
    "application/vnd.databricks.v1+cell": {
     "cellMetadata": {
      "byteLimit": 2048000,
      "implicitDf": true,
      "rowLimit": 10000
     },
     "inputWidgets": {},
     "nuid": "4b2d20a6-b14a-4e5c-80c6-4e0beb5ecb44",
     "showTitle": true,
     "title": "Creating Members Table"
    }
   },
   "outputs": [
    {
     "output_type": "display_data",
     "data": {
      "text/html": [
       "<style scoped>\n",
       "  .table-result-container {\n",
       "    max-height: 300px;\n",
       "    overflow: auto;\n",
       "  }\n",
       "  table, th, td {\n",
       "    border: 1px solid black;\n",
       "    border-collapse: collapse;\n",
       "  }\n",
       "  th, td {\n",
       "    padding: 5px;\n",
       "  }\n",
       "  th {\n",
       "    text-align: left;\n",
       "  }\n",
       "</style><div class='table-result-container'><table class='table-result'><thead style='background-color: white'><tr><th>num_affected_rows</th><th>num_inserted_rows</th></tr></thead><tbody><tr><td>2</td><td>2</td></tr></tbody></table></div>"
      ]
     },
     "metadata": {
      "application/vnd.databricks.v1+output": {
       "addedWidgets": {},
       "aggData": [],
       "aggError": "",
       "aggOverflow": false,
       "aggSchema": [],
       "aggSeriesLimitReached": false,
       "aggType": "",
       "arguments": {},
       "columnCustomDisplayInfos": {},
       "data": [
        [
         2,
         2
        ]
       ],
       "datasetInfos": [
        {
         "name": "_sqldf",
         "schema": {
          "fields": [
           {
            "metadata": {},
            "name": "num_affected_rows",
            "nullable": true,
            "type": "long"
           },
           {
            "metadata": {},
            "name": "num_inserted_rows",
            "nullable": true,
            "type": "long"
           }
          ],
          "type": "struct"
         },
         "tableIdentifier": null,
         "typeStr": "pyspark.sql.dataframe.DataFrame"
        }
       ],
       "dbfsResultPath": null,
       "isJsonSchema": true,
       "metadata": {
        "dataframeName": "_sqldf",
        "executionCount": 6
       },
       "overflow": false,
       "plotOptions": {
        "customPlotOptions": {},
        "displayType": "table",
        "pivotAggregation": null,
        "pivotColumns": null,
        "xColumns": null,
        "yColumns": null
       },
       "removedWidgets": [],
       "schema": [
        {
         "metadata": "{}",
         "name": "num_affected_rows",
         "type": "\"long\""
        },
        {
         "metadata": "{}",
         "name": "num_inserted_rows",
         "type": "\"long\""
        }
       ],
       "type": "table"
      }
     },
     "output_type": "display_data"
    }
   ],
   "source": [
    "%sql\n",
    "--Creating members table:\n",
    "\n",
    "CREATE OR REPLACE TABLE members (\n",
    "  customer_id VARCHAR(1),\n",
    "  join_date DATE\n",
    ");\n",
    "\n",
    "INSERT INTO members\n",
    "  (customer_id, join_date)\n",
    "VALUES\n",
    "  ('A', '2021-01-07'),\n",
    "  ('B', '2021-01-09');"
   ]
  },
  {
   "cell_type": "code",
   "execution_count": 0,
   "metadata": {
    "application/vnd.databricks.v1+cell": {
     "cellMetadata": {
      "byteLimit": 2048000,
      "rowLimit": 10000
     },
     "inputWidgets": {},
     "nuid": "5dc20375-3ad2-43ad-9c82-04a93b1ae39f",
     "showTitle": true,
     "title": "Reading Data into Members DF"
    }
   },
   "outputs": [
    {
     "output_type": "stream",
     "name": "stdout",
     "output_type": "stream",
     "text": [
      "+-----------+----------+\n|customer_id| join_date|\n+-----------+----------+\n|          A|2021-01-07|\n|          B|2021-01-09|\n+-----------+----------+\n\n"
     ]
    }
   ],
   "source": [
    "members_df = spark.read.table(\"members\")\n",
    "members_df .show()"
   ]
  },
  {
   "cell_type": "code",
   "execution_count": 0,
   "metadata": {
    "application/vnd.databricks.v1+cell": {
     "cellMetadata": {
      "byteLimit": 2048000,
      "rowLimit": 10000
     },
     "inputWidgets": {},
     "nuid": "559aafbd-bb18-40cf-814a-694f666a7855",
     "showTitle": true,
     "title": "Imports"
    }
   },
   "outputs": [],
   "source": [
    "from pyspark.sql.functions import row_number\n",
    "from pyspark.sql.window import Window\n",
    "from pyspark.sql.functions import *\n",
    "from pyspark.sql.window import *\n",
    "from pyspark.sql import Window \n",
    "from pyspark.sql.functions import dense_rank"
   ]
  },
  {
   "cell_type": "code",
   "execution_count": 0,
   "metadata": {
    "application/vnd.databricks.v1+cell": {
     "cellMetadata": {
      "byteLimit": 2048000,
      "rowLimit": 10000
     },
     "inputWidgets": {},
     "nuid": "b8bdaf37-7473-454c-b025-5109d5bd9273",
     "showTitle": true,
     "title": "Printing all dfs"
    }
   },
   "outputs": [
    {
     "output_type": "display_data",
     "data": {
      "text/html": [
       "<style scoped>\n",
       "  .table-result-container {\n",
       "    max-height: 300px;\n",
       "    overflow: auto;\n",
       "  }\n",
       "  table, th, td {\n",
       "    border: 1px solid black;\n",
       "    border-collapse: collapse;\n",
       "  }\n",
       "  th, td {\n",
       "    padding: 5px;\n",
       "  }\n",
       "  th {\n",
       "    text-align: left;\n",
       "  }\n",
       "</style><div class='table-result-container'><table class='table-result'><thead style='background-color: white'><tr><th>customer_id</th><th>order_date</th><th>product_id</th></tr></thead><tbody><tr><td>A</td><td>2021-01-01</td><td>1</td></tr><tr><td>A</td><td>2021-01-01</td><td>2</td></tr><tr><td>A</td><td>2021-01-07</td><td>2</td></tr><tr><td>A</td><td>2021-01-10</td><td>3</td></tr><tr><td>A</td><td>2021-01-11</td><td>3</td></tr><tr><td>A</td><td>2021-01-11</td><td>3</td></tr><tr><td>B</td><td>2021-01-01</td><td>2</td></tr><tr><td>B</td><td>2021-01-02</td><td>2</td></tr><tr><td>B</td><td>2021-01-04</td><td>1</td></tr><tr><td>B</td><td>2021-01-11</td><td>1</td></tr><tr><td>B</td><td>2021-01-16</td><td>3</td></tr><tr><td>B</td><td>2021-02-01</td><td>3</td></tr><tr><td>C</td><td>2021-01-01</td><td>3</td></tr><tr><td>C</td><td>2021-01-01</td><td>3</td></tr><tr><td>C</td><td>2021-01-07</td><td>3</td></tr></tbody></table></div>"
      ]
     },
     "metadata": {
      "application/vnd.databricks.v1+output": {
       "addedWidgets": {},
       "aggData": [],
       "aggError": "",
       "aggOverflow": false,
       "aggSchema": [],
       "aggSeriesLimitReached": false,
       "aggType": "",
       "arguments": {},
       "columnCustomDisplayInfos": {},
       "data": [
        [
         "A",
         "2021-01-01",
         1
        ],
        [
         "A",
         "2021-01-01",
         2
        ],
        [
         "A",
         "2021-01-07",
         2
        ],
        [
         "A",
         "2021-01-10",
         3
        ],
        [
         "A",
         "2021-01-11",
         3
        ],
        [
         "A",
         "2021-01-11",
         3
        ],
        [
         "B",
         "2021-01-01",
         2
        ],
        [
         "B",
         "2021-01-02",
         2
        ],
        [
         "B",
         "2021-01-04",
         1
        ],
        [
         "B",
         "2021-01-11",
         1
        ],
        [
         "B",
         "2021-01-16",
         3
        ],
        [
         "B",
         "2021-02-01",
         3
        ],
        [
         "C",
         "2021-01-01",
         3
        ],
        [
         "C",
         "2021-01-01",
         3
        ],
        [
         "C",
         "2021-01-07",
         3
        ]
       ],
       "datasetInfos": [],
       "dbfsResultPath": null,
       "isJsonSchema": true,
       "metadata": {},
       "overflow": false,
       "plotOptions": {
        "customPlotOptions": {},
        "displayType": "table",
        "pivotAggregation": null,
        "pivotColumns": null,
        "xColumns": null,
        "yColumns": null
       },
       "removedWidgets": [],
       "schema": [
        {
         "metadata": "{\"__CHAR_VARCHAR_TYPE_STRING\":\"varchar(1)\"}",
         "name": "customer_id",
         "type": "\"string\""
        },
        {
         "metadata": "{}",
         "name": "order_date",
         "type": "\"date\""
        },
        {
         "metadata": "{}",
         "name": "product_id",
         "type": "\"integer\""
        }
       ],
       "type": "table"
      }
     },
     "output_type": "display_data"
    },
    {
     "output_type": "display_data",
     "data": {
      "text/html": [
       "<style scoped>\n",
       "  .table-result-container {\n",
       "    max-height: 300px;\n",
       "    overflow: auto;\n",
       "  }\n",
       "  table, th, td {\n",
       "    border: 1px solid black;\n",
       "    border-collapse: collapse;\n",
       "  }\n",
       "  th, td {\n",
       "    padding: 5px;\n",
       "  }\n",
       "  th {\n",
       "    text-align: left;\n",
       "  }\n",
       "</style><div class='table-result-container'><table class='table-result'><thead style='background-color: white'><tr><th>product_id</th><th>product_name</th><th>price</th></tr></thead><tbody><tr><td>1</td><td>sushi</td><td>10</td></tr><tr><td>2</td><td>curry</td><td>15</td></tr><tr><td>3</td><td>ramen</td><td>12</td></tr></tbody></table></div>"
      ]
     },
     "metadata": {
      "application/vnd.databricks.v1+output": {
       "addedWidgets": {},
       "aggData": [],
       "aggError": "",
       "aggOverflow": false,
       "aggSchema": [],
       "aggSeriesLimitReached": false,
       "aggType": "",
       "arguments": {},
       "columnCustomDisplayInfos": {},
       "data": [
        [
         1,
         "sushi",
         10
        ],
        [
         2,
         "curry",
         15
        ],
        [
         3,
         "ramen",
         12
        ]
       ],
       "datasetInfos": [],
       "dbfsResultPath": null,
       "isJsonSchema": true,
       "metadata": {},
       "overflow": false,
       "plotOptions": {
        "customPlotOptions": {},
        "displayType": "table",
        "pivotAggregation": null,
        "pivotColumns": null,
        "xColumns": null,
        "yColumns": null
       },
       "removedWidgets": [],
       "schema": [
        {
         "metadata": "{}",
         "name": "product_id",
         "type": "\"integer\""
        },
        {
         "metadata": "{\"__CHAR_VARCHAR_TYPE_STRING\":\"varchar(5)\"}",
         "name": "product_name",
         "type": "\"string\""
        },
        {
         "metadata": "{}",
         "name": "price",
         "type": "\"integer\""
        }
       ],
       "type": "table"
      }
     },
     "output_type": "display_data"
    },
    {
     "output_type": "display_data",
     "data": {
      "text/html": [
       "<style scoped>\n",
       "  .table-result-container {\n",
       "    max-height: 300px;\n",
       "    overflow: auto;\n",
       "  }\n",
       "  table, th, td {\n",
       "    border: 1px solid black;\n",
       "    border-collapse: collapse;\n",
       "  }\n",
       "  th, td {\n",
       "    padding: 5px;\n",
       "  }\n",
       "  th {\n",
       "    text-align: left;\n",
       "  }\n",
       "</style><div class='table-result-container'><table class='table-result'><thead style='background-color: white'><tr><th>customer_id</th><th>join_date</th></tr></thead><tbody><tr><td>A</td><td>2021-01-07</td></tr><tr><td>B</td><td>2021-01-09</td></tr></tbody></table></div>"
      ]
     },
     "metadata": {
      "application/vnd.databricks.v1+output": {
       "addedWidgets": {},
       "aggData": [],
       "aggError": "",
       "aggOverflow": false,
       "aggSchema": [],
       "aggSeriesLimitReached": false,
       "aggType": "",
       "arguments": {},
       "columnCustomDisplayInfos": {},
       "data": [
        [
         "A",
         "2021-01-07"
        ],
        [
         "B",
         "2021-01-09"
        ]
       ],
       "datasetInfos": [],
       "dbfsResultPath": null,
       "isJsonSchema": true,
       "metadata": {},
       "overflow": false,
       "plotOptions": {
        "customPlotOptions": {},
        "displayType": "table",
        "pivotAggregation": null,
        "pivotColumns": null,
        "xColumns": null,
        "yColumns": null
       },
       "removedWidgets": [],
       "schema": [
        {
         "metadata": "{\"__CHAR_VARCHAR_TYPE_STRING\":\"varchar(1)\"}",
         "name": "customer_id",
         "type": "\"string\""
        },
        {
         "metadata": "{}",
         "name": "join_date",
         "type": "\"date\""
        }
       ],
       "type": "table"
      }
     },
     "output_type": "display_data"
    }
   ],
   "source": [
    "sales_df.display()\n",
    "menu_df.display()\n",
    "members_df.display()"
   ]
  },
  {
   "cell_type": "code",
   "execution_count": 0,
   "metadata": {
    "application/vnd.databricks.v1+cell": {
     "cellMetadata": {
      "byteLimit": 2048000,
      "rowLimit": 10000
     },
     "inputWidgets": {},
     "nuid": "a72e19f1-dfdc-495a-9754-dced0eb5c6af",
     "showTitle": true,
     "title": "What is the total amount each customer spent at the restaurant?"
    }
   },
   "outputs": [
    {
     "output_type": "stream",
     "name": "stdout",
     "output_type": "stream",
     "text": [
      "+-----------+--------------------+\n|customer_id|TotalSpentByCustomer|\n+-----------+--------------------+\n|          A|                  76|\n|          B|                  74|\n|          C|                  36|\n+-----------+--------------------+\n\n"
     ]
    }
   ],
   "source": [
    "#select sum(m.price), s.customer_id from menu as m join sales as s on m.product_id = s.product_id group by s.customer_id;\n",
    "\n",
    "from pyspark.sql.window import Window\n",
    "from pyspark.sql.functions import sum,count,col,row_number,desc,max,lead\n",
    "\n",
    "joined_df=sales_df.join(menu_df,on=\"product_id\")\n",
    "window_spec=Window.partitionBy(sales_df.customer_id)\n",
    "\n",
    "total_amount_df=joined_df.select(\"customer_id\",sum(\"price\").over(window_spec).alias(\"TotalSpentByCustomer\")).distinct().show()"
   ]
  },
  {
   "cell_type": "code",
   "execution_count": 0,
   "metadata": {
    "application/vnd.databricks.v1+cell": {
     "cellMetadata": {
      "byteLimit": 2048000,
      "rowLimit": 10000
     },
     "inputWidgets": {},
     "nuid": "1aeb1831-6651-4373-9037-1d209c26507b",
     "showTitle": true,
     "title": "How many days has each customer visited the restaurant?"
    }
   },
   "outputs": [
    {
     "output_type": "stream",
     "name": "stdout",
     "output_type": "stream",
     "text": [
      "+-----------+-----------------+\n|customer_id|count(order_date)|\n+-----------+-----------------+\n|          B|                6|\n|          C|                3|\n|          A|                6|\n+-----------+-----------------+\n\n"
     ]
    }
   ],
   "source": [
    "#select count(order_date), customer_id from sales group by order_date;\n",
    "\n",
    "#joined_df.select(\"customer_id\",\"price\").groupBy(\"customer_id\").agg(sum(\"price\")).show()\n",
    "visitlog_df = sales_df.select(\"customer_id\",\"order_date\").groupBy(\"customer_id\").agg(count(\"order_date\")).show()"
   ]
  },
  {
   "cell_type": "code",
   "execution_count": 0,
   "metadata": {
    "application/vnd.databricks.v1+cell": {
     "cellMetadata": {
      "byteLimit": 2048000,
      "implicitDf": true,
      "rowLimit": 10000
     },
     "inputWidgets": {},
     "nuid": "1c8ff7d4-c146-4a2b-85de-dd9ec739a5b1",
     "showTitle": true,
     "title": "What was the first item from the menu purchased by each customer?"
    }
   },
   "outputs": [
    {
     "output_type": "stream",
     "name": "stdout",
     "output_type": "stream",
     "text": [
      "+-----------+----------+------------+\n|customer_id|order_date|product_name|\n+-----------+----------+------------+\n|          A|2021-01-01|       sushi|\n|          B|2021-01-01|       curry|\n|          C|2021-01-01|       ramen|\n+-----------+----------+------------+\n\n"
     ]
    }
   ],
   "source": [
    "#with cte as (select * from sales join menu on sales.product_id = menu.product_id),\n",
    "#cte1 as ( select customer_id, order_date, product_name, row_number() over(partition by(customer_id) order by (order_date) asc)as row_num from cte)\n",
    "#select * from cte1 where row_num=1;\n",
    "\n",
    "join_df = sales_df.join(menu_df, sales_df.product_id == menu_df.product_id)\n",
    "window_spec = Window.partitionBy(\"customer_id\").orderBy(\"order_date\")\n",
    "cte_df = join_df.withColumn(\"row_num\", row_number().over(window_spec)).filter(\"row_num = 1\")\n",
    "\n",
    "result_df = cte_df.select(\"customer_id\", \"order_date\", \"product_name\")\n",
    "result_df.show()"
   ]
  },
  {
   "cell_type": "code",
   "execution_count": 0,
   "metadata": {
    "application/vnd.databricks.v1+cell": {
     "cellMetadata": {
      "byteLimit": 2048000,
      "implicitDf": true,
      "rowLimit": 10000
     },
     "inputWidgets": {},
     "nuid": "d8ca7bdf-fc7f-47c8-8fbe-7fb58e496c92",
     "showTitle": true,
     "title": "What is the most purchased item on the menu and how many times was it purchased by all customers?"
    }
   },
   "outputs": [
    {
     "output_type": "stream",
     "name": "stdout",
     "output_type": "stream",
     "text": [
      "+------------+------------+\n|product_name|num_purchase|\n+------------+------------+\n|       ramen|           8|\n+------------+------------+\n\n"
     ]
    }
   ],
   "source": [
    "#select count(sales.product_id), any_value(product_name) from sales join menu on sales.product_id = menu.product_id group by sales.product_id, product_name ORDER BY count(sales.product_id) DESC LIMIT 1;\n",
    "\n",
    "joined = sales_df.join(menu_df, 'product_id')\n",
    "grouped = joined.groupBy(\"product_id\", \"product_name\").agg(count(\"product_id\").alias(\"num_purchase\"))\n",
    "ordered = grouped.orderBy(\"num_purchase\", ascending = 0).drop('product_id')\n",
    "result = ordered.limit(1)\n",
    "\n",
    "result.show()"
   ]
  },
  {
   "cell_type": "code",
   "execution_count": 0,
   "metadata": {
    "application/vnd.databricks.v1+cell": {
     "cellMetadata": {
      "byteLimit": 2048000,
      "implicitDf": true,
      "rowLimit": 10000
     },
     "inputWidgets": {},
     "nuid": "27242045-1555-484d-a47b-50d7af75c79e",
     "showTitle": true,
     "title": "Which item was the most popular for each customer?"
    }
   },
   "outputs": [
    {
     "output_type": "stream",
     "name": "stdout",
     "output_type": "stream",
     "text": [
      "+-----------+------------+------------+\n|customer_id|product_name|count_orders|\n+-----------+------------+------------+\n|          A|       ramen|           3|\n|          B|       sushi|           2|\n|          B|       ramen|           2|\n|          B|       curry|           2|\n|          C|       ramen|           3|\n+-----------+------------+------------+\n\n"
     ]
    }
   ],
   "source": [
    "\"\"\"\n",
    "SELECT s.customer_id, m.product_name, COUNT(s.product_id) as count_orders\n",
    "FROM sales_df s\n",
    "JOIN menu_df m ON s.product_id = m.product_id\n",
    "GROUP BY s.customer_id, m.product_name\n",
    "HAVING RANK() OVER (PARTITION BY s.customer_id ORDER BY COUNT(s.product_id) DESC) = 1;\n",
    "\"\"\"\n",
    "\n",
    "joined = sales_df.join(menu_df, 'product_id')\n",
    "grouped = joined.groupBy('customer_id', 'product_name').agg(count('product_id').alias('count_orders'))\n",
    "selected = grouped.withColumn('denserank', dense_rank().over(Window.partitionBy('customer_id').orderBy(col(\"count_orders\").desc())))\n",
    "filtered = selected.filter('denserank = 1')\n",
    "\n",
    "result = filtered.drop('denserank')\n",
    "result.show()\n"
   ]
  },
  {
   "cell_type": "code",
   "execution_count": 0,
   "metadata": {
    "application/vnd.databricks.v1+cell": {
     "cellMetadata": {
      "byteLimit": 2048000,
      "implicitDf": true,
      "rowLimit": 10000
     },
     "inputWidgets": {},
     "nuid": "5c3da311-79b6-4eac-9531-a7f6d559ff80",
     "showTitle": true,
     "title": "Which item was purchased first by the customer after they became a member?"
    }
   },
   "outputs": [
    {
     "output_type": "display_data",
     "data": {
      "text/html": [
       "<style scoped>\n",
       "  .table-result-container {\n",
       "    max-height: 300px;\n",
       "    overflow: auto;\n",
       "  }\n",
       "  table, th, td {\n",
       "    border: 1px solid black;\n",
       "    border-collapse: collapse;\n",
       "  }\n",
       "  th, td {\n",
       "    padding: 5px;\n",
       "  }\n",
       "  th {\n",
       "    text-align: left;\n",
       "  }\n",
       "</style><div class='table-result-container'><table class='table-result'><thead style='background-color: white'><tr><th>customer_id</th><th>order_date</th><th>product_name</th></tr></thead><tbody><tr><td>A</td><td>2021-01-01</td><td>curry</td></tr><tr><td>A</td><td>2021-01-01</td><td>sushi</td></tr><tr><td>B</td><td>2021-01-04</td><td>sushi</td></tr></tbody></table></div>"
      ]
     },
     "metadata": {
      "application/vnd.databricks.v1+output": {
       "addedWidgets": {},
       "aggData": [],
       "aggError": "",
       "aggOverflow": false,
       "aggSchema": [],
       "aggSeriesLimitReached": false,
       "aggType": "",
       "arguments": {},
       "columnCustomDisplayInfos": {},
       "data": [
        [
         "A",
         "2021-01-01",
         "curry"
        ],
        [
         "A",
         "2021-01-01",
         "sushi"
        ],
        [
         "B",
         "2021-01-04",
         "sushi"
        ]
       ],
       "datasetInfos": [],
       "dbfsResultPath": null,
       "isJsonSchema": true,
       "metadata": {},
       "overflow": false,
       "plotOptions": {
        "customPlotOptions": {},
        "displayType": "table",
        "pivotAggregation": null,
        "pivotColumns": null,
        "xColumns": null,
        "yColumns": null
       },
       "removedWidgets": [],
       "schema": [
        {
         "metadata": "{\"__CHAR_VARCHAR_TYPE_STRING\":\"varchar(1)\"}",
         "name": "customer_id",
         "type": "\"string\""
        },
        {
         "metadata": "{}",
         "name": "order_date",
         "type": "\"date\""
        },
        {
         "metadata": "{\"__CHAR_VARCHAR_TYPE_STRING\":\"varchar(5)\"}",
         "name": "product_name",
         "type": "\"string\""
        }
       ],
       "type": "table"
      }
     },
     "output_type": "display_data"
    }
   ],
   "source": [
    "windowSpec = Window.partitionBy(\"customer_id\").orderBy(col(\"order_date\").desc())\n",
    "\n",
    "result_df = sales_df.join(members_df, 'customer_id').filter(sales_df.order_date < members_df.join_date).withColumn('dense_rank', dense_rank().over(windowSpec)).filter('dense_rank = 1').join(menu_df, 'product_id').select('customer_id', 'order_date', 'product_name')\n",
    "\n",
    "result_df.display()"
   ]
  },
  {
   "cell_type": "code",
   "execution_count": 0,
   "metadata": {
    "application/vnd.databricks.v1+cell": {
     "cellMetadata": {
      "byteLimit": 2048000,
      "rowLimit": 10000
     },
     "inputWidgets": {},
     "nuid": "13375e86-1b06-4703-bc95-a4e0c8001435",
     "showTitle": true,
     "title": "Which item was purchased just before the customer became a member?"
    }
   },
   "outputs": [
    {
     "output_type": "display_data",
     "data": {
      "text/html": [
       "<style scoped>\n",
       "  .table-result-container {\n",
       "    max-height: 300px;\n",
       "    overflow: auto;\n",
       "  }\n",
       "  table, th, td {\n",
       "    border: 1px solid black;\n",
       "    border-collapse: collapse;\n",
       "  }\n",
       "  th, td {\n",
       "    padding: 5px;\n",
       "  }\n",
       "  th {\n",
       "    text-align: left;\n",
       "  }\n",
       "</style><div class='table-result-container'><table class='table-result'><thead style='background-color: white'><tr><th>customer_id</th><th>order_date</th><th>product_name</th></tr></thead><tbody><tr><td>A</td><td>2021-01-11</td><td>ramen</td></tr><tr><td>A</td><td>2021-01-11</td><td>ramen</td></tr><tr><td>B</td><td>2021-02-01</td><td>ramen</td></tr></tbody></table></div>"
      ]
     },
     "metadata": {
      "application/vnd.databricks.v1+output": {
       "addedWidgets": {},
       "aggData": [],
       "aggError": "",
       "aggOverflow": false,
       "aggSchema": [],
       "aggSeriesLimitReached": false,
       "aggType": "",
       "arguments": {},
       "columnCustomDisplayInfos": {},
       "data": [
        [
         "A",
         "2021-01-11",
         "ramen"
        ],
        [
         "A",
         "2021-01-11",
         "ramen"
        ],
        [
         "B",
         "2021-02-01",
         "ramen"
        ]
       ],
       "datasetInfos": [],
       "dbfsResultPath": null,
       "isJsonSchema": true,
       "metadata": {},
       "overflow": false,
       "plotOptions": {
        "customPlotOptions": {},
        "displayType": "table",
        "pivotAggregation": null,
        "pivotColumns": null,
        "xColumns": null,
        "yColumns": null
       },
       "removedWidgets": [],
       "schema": [
        {
         "metadata": "{\"__CHAR_VARCHAR_TYPE_STRING\":\"varchar(1)\"}",
         "name": "customer_id",
         "type": "\"string\""
        },
        {
         "metadata": "{}",
         "name": "order_date",
         "type": "\"date\""
        },
        {
         "metadata": "{\"__CHAR_VARCHAR_TYPE_STRING\":\"varchar(5)\"}",
         "name": "product_name",
         "type": "\"string\""
        }
       ],
       "type": "table"
      }
     },
     "output_type": "display_data"
    }
   ],
   "source": [
    "windowSpec = Window.partitionBy(\"customer_id\").orderBy(col(\"order_date\").desc())\n",
    "\n",
    "result_df = sales_df.join(members_df, 'customer_id').filter(sales_df.order_date > members_df.join_date).withColumn('dense_rank', dense_rank().over(windowSpec)).filter('dense_rank = 1').join(menu_df, 'product_id').select('customer_id', 'order_date', 'product_name')\n",
    "\n",
    "result_df.display()"
   ]
  }
 ],
 "metadata": {
  "application/vnd.databricks.v1+notebook": {
   "dashboards": [],
   "language": "python",
   "notebookMetadata": {
    "mostRecentlyExecutedCommandWithImplicitDF": {
     "commandId": -1,
     "dataframes": [
      "_sqldf"
     ]
    },
    "pythonIndentUnit": 4
   },
   "notebookName": "Case Study",
   "notebookOrigID": 724586768977281,
   "widgets": {}
  }
 },
 "nbformat": 4,
 "nbformat_minor": 0
}
