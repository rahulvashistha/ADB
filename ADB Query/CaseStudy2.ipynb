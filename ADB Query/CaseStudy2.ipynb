{
 "cells": [
  {
   "cell_type": "code",
   "execution_count": 0,
   "metadata": {
    "application/vnd.databricks.v1+cell": {
     "cellMetadata": {},
     "inputWidgets": {},
     "nuid": "2a53f4e5-ce92-4d4b-8db3-6b9e90eb61a7",
     "showTitle": true,
     "title": "Sample Table 1"
    }
   },
   "outputs": [],
   "source": [
    "#trades Example Input:\n",
    "order_id    user_id    price    quantity    status    timestamp\n",
    "100101        111        9.80    10            Cancelled    08/17/2022 12:00:00\n",
    "100102        111        10.00    10            Completed    08/17/2022 12:00:00\n",
    "100259        148        5.10    35            Completed    08/25/2022 12:00:00\n",
    "100264        148        4.80    40            Completed    08/26/2022 12:00:00\n",
    "100305        300        10.00    15            Completed    09/05/2022 12:00:00\n",
    "100400        178        9.90    15            Completed    09/09/2022 12:00:00\n",
    "100565        265        25.60    5            Completed    12/19/2022 12:00:00\n"
   ]
  },
  {
   "cell_type": "code",
   "execution_count": 0,
   "metadata": {
    "application/vnd.databricks.v1+cell": {
     "cellMetadata": {},
     "inputWidgets": {},
     "nuid": "cb226678-e2a4-4009-b6ee-b7c6df43f66b",
     "showTitle": true,
     "title": "Sample Table 2"
    }
   },
   "outputs": [],
   "source": [
    "#users Example Input:\n",
    "user_id    city            email                    signup_date\n",
    "111        San Francisco    rrok10@gmail.com        08/03/2021 12:00:00\n",
    "148        Boston            sailor9820@gmail.com    08/20/2021 12:00:00\n",
    "178        San Francisco    harrypotterfan182@gmail.com    01/05/2022 12:00:00\n",
    "265        Denver            shadower_@hotmail.com    02/26/2022 12:00:00\n",
    "300        San Francisco    houstoncowboy1122@hotmail.com    06/30/2022 12:00:00"
   ]
  },
  {
   "cell_type": "code",
   "execution_count": 0,
   "metadata": {
    "application/vnd.databricks.v1+cell": {
     "cellMetadata": {},
     "inputWidgets": {},
     "nuid": "0ca9838b-58ed-400f-ae86-a9a775976cef",
     "showTitle": true,
     "title": "Requirement"
    }
   },
   "outputs": [],
   "source": [
    "Assume you're given the tables containing completed trade orders and user details in a Robinhood trading system.\n",
    "Write a query to retrieve the top three cities that have the highest number of completed trade orders listed in descending order. Output the city name and the corresponding number of completed trade orders."
   ]
  },
  {
   "cell_type": "code",
   "execution_count": 0,
   "metadata": {
    "application/vnd.databricks.v1+cell": {
     "cellMetadata": {
      "byteLimit": 2048000,
      "rowLimit": 10000
     },
     "inputWidgets": {},
     "nuid": "6a264d86-49cd-4d7e-b229-87c0bb5d74e5",
     "showTitle": true,
     "title": "Spark Session"
    }
   },
   "outputs": [],
   "source": [
    "from pyspark.sql import SparkSession\n",
    "spark = SparkSession.builder.getOrCreate()"
   ]
  },
  {
   "cell_type": "code",
   "execution_count": 0,
   "metadata": {
    "application/vnd.databricks.v1+cell": {
     "cellMetadata": {},
     "inputWidgets": {},
     "nuid": "ab9cb536-5de0-45de-a691-6be1a33e4647",
     "showTitle": false,
     "title": ""
    }
   },
   "outputs": [],
   "source": [
    "from pyspark.sql.functions import *"
   ]
  },
  {
   "cell_type": "code",
   "execution_count": 0,
   "metadata": {
    "application/vnd.databricks.v1+cell": {
     "cellMetadata": {
      "byteLimit": 2048000,
      "implicitDf": true,
      "rowLimit": 10000
     },
     "inputWidgets": {},
     "nuid": "475d24ce-abaa-41b5-9dd2-642fdefa2220",
     "showTitle": true,
     "title": "Creating Trades Table"
    }
   },
   "outputs": [
    {
     "output_type": "display_data",
     "data": {
      "text/html": [
       "<style scoped>\n",
       "  .table-result-container {\n",
       "    max-height: 300px;\n",
       "    overflow: auto;\n",
       "  }\n",
       "  table, th, td {\n",
       "    border: 1px solid black;\n",
       "    border-collapse: collapse;\n",
       "  }\n",
       "  th, td {\n",
       "    padding: 5px;\n",
       "  }\n",
       "  th {\n",
       "    text-align: left;\n",
       "  }\n",
       "</style><div class='table-result-container'><table class='table-result'><thead style='background-color: white'><tr></tr></thead><tbody></tbody></table></div>"
      ]
     },
     "metadata": {
      "application/vnd.databricks.v1+output": {
       "addedWidgets": {},
       "aggData": [],
       "aggError": "",
       "aggOverflow": false,
       "aggSchema": [],
       "aggSeriesLimitReached": false,
       "aggType": "",
       "arguments": {},
       "columnCustomDisplayInfos": {},
       "data": [],
       "datasetInfos": [],
       "dbfsResultPath": null,
       "isJsonSchema": true,
       "metadata": {
        "dataframeName": null
       },
       "overflow": false,
       "plotOptions": {
        "customPlotOptions": {},
        "displayType": "table",
        "pivotAggregation": null,
        "pivotColumns": null,
        "xColumns": null,
        "yColumns": null
       },
       "removedWidgets": [],
       "schema": [],
       "type": "table"
      }
     },
     "output_type": "display_data"
    }
   ],
   "source": [
    "%sql\n",
    "\n",
    "CREATE TABLE trades (\n",
    "order_id INT,\n",
    "user_id INT,\n",
    "price FLOAT,\n",
    "quantity INT,\n",
    "status VARCHAR(20),\n",
    "timestamps TIMESTAMP\n",
    ");"
   ]
  },
  {
   "cell_type": "code",
   "execution_count": 0,
   "metadata": {
    "application/vnd.databricks.v1+cell": {
     "cellMetadata": {
      "byteLimit": 2048000,
      "implicitDf": true,
      "rowLimit": 10000
     },
     "inputWidgets": {},
     "nuid": "0b7b602e-6b89-46ef-a135-ee084c2e8d2e",
     "showTitle": true,
     "title": "Populating Trades Table"
    }
   },
   "outputs": [
    {
     "output_type": "display_data",
     "data": {
      "text/html": [
       "<style scoped>\n",
       "  .table-result-container {\n",
       "    max-height: 300px;\n",
       "    overflow: auto;\n",
       "  }\n",
       "  table, th, td {\n",
       "    border: 1px solid black;\n",
       "    border-collapse: collapse;\n",
       "  }\n",
       "  th, td {\n",
       "    padding: 5px;\n",
       "  }\n",
       "  th {\n",
       "    text-align: left;\n",
       "  }\n",
       "</style><div class='table-result-container'><table class='table-result'><thead style='background-color: white'><tr><th>num_affected_rows</th><th>num_inserted_rows</th></tr></thead><tbody><tr><td>7</td><td>7</td></tr></tbody></table></div>"
      ]
     },
     "metadata": {
      "application/vnd.databricks.v1+output": {
       "addedWidgets": {},
       "aggData": [],
       "aggError": "",
       "aggOverflow": false,
       "aggSchema": [],
       "aggSeriesLimitReached": false,
       "aggType": "",
       "arguments": {},
       "columnCustomDisplayInfos": {},
       "data": [
        [
         7,
         7
        ]
       ],
       "datasetInfos": [
        {
         "name": "_sqldf",
         "schema": {
          "fields": [
           {
            "metadata": {},
            "name": "num_affected_rows",
            "nullable": true,
            "type": "long"
           },
           {
            "metadata": {},
            "name": "num_inserted_rows",
            "nullable": true,
            "type": "long"
           }
          ],
          "type": "struct"
         },
         "tableIdentifier": null,
         "typeStr": "pyspark.sql.dataframe.DataFrame"
        }
       ],
       "dbfsResultPath": null,
       "isJsonSchema": true,
       "metadata": {
        "dataframeName": "_sqldf",
        "executionCount": 7
       },
       "overflow": false,
       "plotOptions": {
        "customPlotOptions": {},
        "displayType": "table",
        "pivotAggregation": null,
        "pivotColumns": null,
        "xColumns": null,
        "yColumns": null
       },
       "removedWidgets": [],
       "schema": [
        {
         "metadata": "{}",
         "name": "num_affected_rows",
         "type": "\"long\""
        },
        {
         "metadata": "{}",
         "name": "num_inserted_rows",
         "type": "\"long\""
        }
       ],
       "type": "table"
      }
     },
     "output_type": "display_data"
    }
   ],
   "source": [
    "%sql\n",
    "INSERT INTO trades (order_id, user_id, price, quantity, status, timestamps) VALUES\n",
    "(100101, 111, 9.80, 10, 'Cancelled', '2022-08-17 12:00:00'),\n",
    "(100102, 111, 10.00, 10, 'Completed', '2022-08-17 12:00:00'),\n",
    "(100259, 148, 5.10, 35, 'Completed', '2022-08-25 12:00:00'),\n",
    "(100264, 148, 4.80, 40, 'Completed', '2022-08-26 12:00:00'),\n",
    "(100305, 300, 10.00, 15, 'Completed', '2022-09-05 12:00:00'),\n",
    "(100400, 178, 9.90, 15, 'Completed', '2022-09-09 12:00:00'),\n",
    "(100565, 265, 25.60, 5, 'Completed', '2022-12-19 12:00:00');"
   ]
  },
  {
   "cell_type": "code",
   "execution_count": 0,
   "metadata": {
    "application/vnd.databricks.v1+cell": {
     "cellMetadata": {
      "byteLimit": 2048000,
      "implicitDf": true,
      "rowLimit": 10000
     },
     "inputWidgets": {},
     "nuid": "aa6a56bc-aa80-4aa8-a404-dd9704e191b2",
     "showTitle": true,
     "title": "Creating Users Table"
    }
   },
   "outputs": [
    {
     "output_type": "display_data",
     "data": {
      "text/html": [
       "<style scoped>\n",
       "  .table-result-container {\n",
       "    max-height: 300px;\n",
       "    overflow: auto;\n",
       "  }\n",
       "  table, th, td {\n",
       "    border: 1px solid black;\n",
       "    border-collapse: collapse;\n",
       "  }\n",
       "  th, td {\n",
       "    padding: 5px;\n",
       "  }\n",
       "  th {\n",
       "    text-align: left;\n",
       "  }\n",
       "</style><div class='table-result-container'><table class='table-result'><thead style='background-color: white'><tr></tr></thead><tbody></tbody></table></div>"
      ]
     },
     "metadata": {
      "application/vnd.databricks.v1+output": {
       "addedWidgets": {},
       "aggData": [],
       "aggError": "",
       "aggOverflow": false,
       "aggSchema": [],
       "aggSeriesLimitReached": false,
       "aggType": "",
       "arguments": {},
       "columnCustomDisplayInfos": {},
       "data": [],
       "datasetInfos": [],
       "dbfsResultPath": null,
       "isJsonSchema": true,
       "metadata": {
        "dataframeName": null
       },
       "overflow": false,
       "plotOptions": {
        "customPlotOptions": {},
        "displayType": "table",
        "pivotAggregation": null,
        "pivotColumns": null,
        "xColumns": null,
        "yColumns": null
       },
       "removedWidgets": [],
       "schema": [],
       "type": "table"
      }
     },
     "output_type": "display_data"
    }
   ],
   "source": [
    "%sql\n",
    "CREATE TABLE users (\n",
    "user_id INT,\n",
    "city VARCHAR(50),\n",
    "email VARCHAR(50),\n",
    "signup_date TIMESTAMP\n",
    ");"
   ]
  },
  {
   "cell_type": "code",
   "execution_count": 0,
   "metadata": {
    "application/vnd.databricks.v1+cell": {
     "cellMetadata": {
      "byteLimit": 2048000,
      "implicitDf": true,
      "rowLimit": 10000
     },
     "inputWidgets": {},
     "nuid": "afcd5af5-d632-4917-a080-22e5cf1bb8c6",
     "showTitle": true,
     "title": "Populating Users Table"
    }
   },
   "outputs": [
    {
     "output_type": "display_data",
     "data": {
      "text/html": [
       "<style scoped>\n",
       "  .table-result-container {\n",
       "    max-height: 300px;\n",
       "    overflow: auto;\n",
       "  }\n",
       "  table, th, td {\n",
       "    border: 1px solid black;\n",
       "    border-collapse: collapse;\n",
       "  }\n",
       "  th, td {\n",
       "    padding: 5px;\n",
       "  }\n",
       "  th {\n",
       "    text-align: left;\n",
       "  }\n",
       "</style><div class='table-result-container'><table class='table-result'><thead style='background-color: white'><tr><th>num_affected_rows</th><th>num_inserted_rows</th></tr></thead><tbody><tr><td>5</td><td>5</td></tr></tbody></table></div>"
      ]
     },
     "metadata": {
      "application/vnd.databricks.v1+output": {
       "addedWidgets": {},
       "aggData": [],
       "aggError": "",
       "aggOverflow": false,
       "aggSchema": [],
       "aggSeriesLimitReached": false,
       "aggType": "",
       "arguments": {},
       "columnCustomDisplayInfos": {},
       "data": [
        [
         5,
         5
        ]
       ],
       "datasetInfos": [
        {
         "name": "_sqldf",
         "schema": {
          "fields": [
           {
            "metadata": {},
            "name": "num_affected_rows",
            "nullable": true,
            "type": "long"
           },
           {
            "metadata": {},
            "name": "num_inserted_rows",
            "nullable": true,
            "type": "long"
           }
          ],
          "type": "struct"
         },
         "tableIdentifier": null,
         "typeStr": "pyspark.sql.dataframe.DataFrame"
        }
       ],
       "dbfsResultPath": null,
       "isJsonSchema": true,
       "metadata": {
        "dataframeName": "_sqldf",
        "executionCount": 9
       },
       "overflow": false,
       "plotOptions": {
        "customPlotOptions": {},
        "displayType": "table",
        "pivotAggregation": null,
        "pivotColumns": null,
        "xColumns": null,
        "yColumns": null
       },
       "removedWidgets": [],
       "schema": [
        {
         "metadata": "{}",
         "name": "num_affected_rows",
         "type": "\"long\""
        },
        {
         "metadata": "{}",
         "name": "num_inserted_rows",
         "type": "\"long\""
        }
       ],
       "type": "table"
      }
     },
     "output_type": "display_data"
    }
   ],
   "source": [
    "%sql\n",
    "INSERT INTO users (user_id, city, email, signup_date) VALUES\n",
    "(111, 'San Francisco', 'rrok10@gmail.com', '2021-08-03 12:00:00'),\n",
    "(148, 'Boston', 'sailor9820@gmail.com', '2021-08-20 12:00:00'),\n",
    "(178, 'San Francisco', 'harrypotterfan182@gmail.com', '2022-01-05 12:00:00'),\n",
    "(265, 'Denver', 'shadower_@hotmail.com', '2022-02-26 12:00:00'),\n",
    "(300, 'San Francisco', 'houstoncowboy1122@hotmail.com', '2022-06-30 12:00:00');"
   ]
  },
  {
   "cell_type": "code",
   "execution_count": 0,
   "metadata": {
    "application/vnd.databricks.v1+cell": {
     "cellMetadata": {
      "byteLimit": 2048000,
      "rowLimit": 10000
     },
     "inputWidgets": {},
     "nuid": "677bfb3b-6182-4f96-a2bc-7f5a8eb868b7",
     "showTitle": true,
     "title": "Creating trades_df from the table"
    }
   },
   "outputs": [
    {
     "output_type": "display_data",
     "data": {
      "text/html": [
       "<style scoped>\n",
       "  .table-result-container {\n",
       "    max-height: 300px;\n",
       "    overflow: auto;\n",
       "  }\n",
       "  table, th, td {\n",
       "    border: 1px solid black;\n",
       "    border-collapse: collapse;\n",
       "  }\n",
       "  th, td {\n",
       "    padding: 5px;\n",
       "  }\n",
       "  th {\n",
       "    text-align: left;\n",
       "  }\n",
       "</style><div class='table-result-container'><table class='table-result'><thead style='background-color: white'><tr><th>order_id</th><th>user_id</th><th>price</th><th>quantity</th><th>status</th><th>timestamps</th></tr></thead><tbody><tr><td>100101</td><td>111</td><td>9.8</td><td>10</td><td>Cancelled</td><td>2022-08-17T12:00:00.000+0000</td></tr><tr><td>100102</td><td>111</td><td>10.0</td><td>10</td><td>Completed</td><td>2022-08-17T12:00:00.000+0000</td></tr><tr><td>100259</td><td>148</td><td>5.1</td><td>35</td><td>Completed</td><td>2022-08-25T12:00:00.000+0000</td></tr><tr><td>100264</td><td>148</td><td>4.8</td><td>40</td><td>Completed</td><td>2022-08-26T12:00:00.000+0000</td></tr><tr><td>100305</td><td>300</td><td>10.0</td><td>15</td><td>Completed</td><td>2022-09-05T12:00:00.000+0000</td></tr><tr><td>100400</td><td>178</td><td>9.9</td><td>15</td><td>Completed</td><td>2022-09-09T12:00:00.000+0000</td></tr><tr><td>100565</td><td>265</td><td>25.6</td><td>5</td><td>Completed</td><td>2022-12-19T12:00:00.000+0000</td></tr></tbody></table></div>"
      ]
     },
     "metadata": {
      "application/vnd.databricks.v1+output": {
       "addedWidgets": {},
       "aggData": [],
       "aggError": "",
       "aggOverflow": false,
       "aggSchema": [],
       "aggSeriesLimitReached": false,
       "aggType": "",
       "arguments": {},
       "columnCustomDisplayInfos": {},
       "data": [
        [
         100101,
         111,
         9.8,
         10,
         "Cancelled",
         "2022-08-17T12:00:00.000+0000"
        ],
        [
         100102,
         111,
         10.0,
         10,
         "Completed",
         "2022-08-17T12:00:00.000+0000"
        ],
        [
         100259,
         148,
         5.1,
         35,
         "Completed",
         "2022-08-25T12:00:00.000+0000"
        ],
        [
         100264,
         148,
         4.8,
         40,
         "Completed",
         "2022-08-26T12:00:00.000+0000"
        ],
        [
         100305,
         300,
         10.0,
         15,
         "Completed",
         "2022-09-05T12:00:00.000+0000"
        ],
        [
         100400,
         178,
         9.9,
         15,
         "Completed",
         "2022-09-09T12:00:00.000+0000"
        ],
        [
         100565,
         265,
         25.6,
         5,
         "Completed",
         "2022-12-19T12:00:00.000+0000"
        ]
       ],
       "datasetInfos": [],
       "dbfsResultPath": null,
       "isJsonSchema": true,
       "metadata": {},
       "overflow": false,
       "plotOptions": {
        "customPlotOptions": {},
        "displayType": "table",
        "pivotAggregation": null,
        "pivotColumns": null,
        "xColumns": null,
        "yColumns": null
       },
       "removedWidgets": [],
       "schema": [
        {
         "metadata": "{}",
         "name": "order_id",
         "type": "\"integer\""
        },
        {
         "metadata": "{}",
         "name": "user_id",
         "type": "\"integer\""
        },
        {
         "metadata": "{}",
         "name": "price",
         "type": "\"float\""
        },
        {
         "metadata": "{}",
         "name": "quantity",
         "type": "\"integer\""
        },
        {
         "metadata": "{\"__CHAR_VARCHAR_TYPE_STRING\":\"varchar(20)\"}",
         "name": "status",
         "type": "\"string\""
        },
        {
         "metadata": "{}",
         "name": "timestamps",
         "type": "\"timestamp\""
        }
       ],
       "type": "table"
      }
     },
     "output_type": "display_data"
    }
   ],
   "source": [
    "trades_df = spark.read.table(\"trades\")\n",
    "trades_df.display()"
   ]
  },
  {
   "cell_type": "code",
   "execution_count": 0,
   "metadata": {
    "application/vnd.databricks.v1+cell": {
     "cellMetadata": {
      "byteLimit": 2048000,
      "rowLimit": 10000
     },
     "inputWidgets": {},
     "nuid": "58a77dde-5caf-407b-b9c2-62a677998c36",
     "showTitle": true,
     "title": "Creating user_df from the table"
    }
   },
   "outputs": [
    {
     "output_type": "display_data",
     "data": {
      "text/html": [
       "<style scoped>\n",
       "  .table-result-container {\n",
       "    max-height: 300px;\n",
       "    overflow: auto;\n",
       "  }\n",
       "  table, th, td {\n",
       "    border: 1px solid black;\n",
       "    border-collapse: collapse;\n",
       "  }\n",
       "  th, td {\n",
       "    padding: 5px;\n",
       "  }\n",
       "  th {\n",
       "    text-align: left;\n",
       "  }\n",
       "</style><div class='table-result-container'><table class='table-result'><thead style='background-color: white'><tr><th>user_id</th><th>city</th><th>email</th><th>signup_date</th></tr></thead><tbody><tr><td>111</td><td>San Francisco</td><td>rrok10@gmail.com</td><td>2021-08-03T12:00:00.000+0000</td></tr><tr><td>148</td><td>Boston</td><td>sailor9820@gmail.com</td><td>2021-08-20T12:00:00.000+0000</td></tr><tr><td>178</td><td>San Francisco</td><td>harrypotterfan182@gmail.com</td><td>2022-01-05T12:00:00.000+0000</td></tr><tr><td>265</td><td>Denver</td><td>shadower_@hotmail.com</td><td>2022-02-26T12:00:00.000+0000</td></tr><tr><td>300</td><td>San Francisco</td><td>houstoncowboy1122@hotmail.com</td><td>2022-06-30T12:00:00.000+0000</td></tr></tbody></table></div>"
      ]
     },
     "metadata": {
      "application/vnd.databricks.v1+output": {
       "addedWidgets": {},
       "aggData": [],
       "aggError": "",
       "aggOverflow": false,
       "aggSchema": [],
       "aggSeriesLimitReached": false,
       "aggType": "",
       "arguments": {},
       "columnCustomDisplayInfos": {},
       "data": [
        [
         111,
         "San Francisco",
         "rrok10@gmail.com",
         "2021-08-03T12:00:00.000+0000"
        ],
        [
         148,
         "Boston",
         "sailor9820@gmail.com",
         "2021-08-20T12:00:00.000+0000"
        ],
        [
         178,
         "San Francisco",
         "harrypotterfan182@gmail.com",
         "2022-01-05T12:00:00.000+0000"
        ],
        [
         265,
         "Denver",
         "shadower_@hotmail.com",
         "2022-02-26T12:00:00.000+0000"
        ],
        [
         300,
         "San Francisco",
         "houstoncowboy1122@hotmail.com",
         "2022-06-30T12:00:00.000+0000"
        ]
       ],
       "datasetInfos": [],
       "dbfsResultPath": null,
       "isJsonSchema": true,
       "metadata": {},
       "overflow": false,
       "plotOptions": {
        "customPlotOptions": {},
        "displayType": "table",
        "pivotAggregation": null,
        "pivotColumns": null,
        "xColumns": null,
        "yColumns": null
       },
       "removedWidgets": [],
       "schema": [
        {
         "metadata": "{}",
         "name": "user_id",
         "type": "\"integer\""
        },
        {
         "metadata": "{\"__CHAR_VARCHAR_TYPE_STRING\":\"varchar(50)\"}",
         "name": "city",
         "type": "\"string\""
        },
        {
         "metadata": "{\"__CHAR_VARCHAR_TYPE_STRING\":\"varchar(50)\"}",
         "name": "email",
         "type": "\"string\""
        },
        {
         "metadata": "{}",
         "name": "signup_date",
         "type": "\"timestamp\""
        }
       ],
       "type": "table"
      }
     },
     "output_type": "display_data"
    }
   ],
   "source": [
    "users_df = spark.read.table(\"users\")\n",
    "users_df.display()"
   ]
  },
  {
   "cell_type": "code",
   "execution_count": 0,
   "metadata": {
    "application/vnd.databricks.v1+cell": {
     "cellMetadata": {
      "byteLimit": 2048000,
      "implicitDf": true,
      "rowLimit": 10000
     },
     "inputWidgets": {},
     "nuid": "506493fa-4876-43f3-a988-f43e5b018ca1",
     "showTitle": true,
     "title": "Query 01"
    }
   },
   "outputs": [
    {
     "output_type": "display_data",
     "data": {
      "text/html": [
       "<style scoped>\n",
       "  .table-result-container {\n",
       "    max-height: 300px;\n",
       "    overflow: auto;\n",
       "  }\n",
       "  table, th, td {\n",
       "    border: 1px solid black;\n",
       "    border-collapse: collapse;\n",
       "  }\n",
       "  th, td {\n",
       "    padding: 5px;\n",
       "  }\n",
       "  th {\n",
       "    text-align: left;\n",
       "  }\n",
       "</style><div class='table-result-container'><table class='table-result'><thead style='background-color: white'><tr><th>city</th><th>num_completed_trades</th></tr></thead><tbody><tr><td>San Francisco</td><td>3</td></tr><tr><td>Boston</td><td>2</td></tr><tr><td>Denver</td><td>1</td></tr></tbody></table></div>"
      ]
     },
     "metadata": {
      "application/vnd.databricks.v1+output": {
       "addedWidgets": {},
       "aggData": [],
       "aggError": "",
       "aggOverflow": false,
       "aggSchema": [],
       "aggSeriesLimitReached": false,
       "aggType": "",
       "arguments": {},
       "columnCustomDisplayInfos": {},
       "data": [
        [
         "San Francisco",
         3
        ],
        [
         "Boston",
         2
        ],
        [
         "Denver",
         1
        ]
       ],
       "datasetInfos": [
        {
         "name": "_sqldf",
         "schema": {
          "fields": [
           {
            "metadata": {
             "__CHAR_VARCHAR_TYPE_STRING": "varchar(50)"
            },
            "name": "city",
            "nullable": true,
            "type": "string"
           },
           {
            "metadata": {},
            "name": "num_completed_trades",
            "nullable": false,
            "type": "long"
           }
          ],
          "type": "struct"
         },
         "tableIdentifier": null,
         "typeStr": "pyspark.sql.dataframe.DataFrame"
        }
       ],
       "dbfsResultPath": null,
       "isJsonSchema": true,
       "metadata": {
        "dataframeName": "_sqldf",
        "executionCount": 30
       },
       "overflow": false,
       "plotOptions": {
        "customPlotOptions": {},
        "displayType": "table",
        "pivotAggregation": null,
        "pivotColumns": null,
        "xColumns": null,
        "yColumns": null
       },
       "removedWidgets": [],
       "schema": [
        {
         "metadata": "{\"__CHAR_VARCHAR_TYPE_STRING\":\"varchar(50)\"}",
         "name": "city",
         "type": "\"string\""
        },
        {
         "metadata": "{}",
         "name": "num_completed_trades",
         "type": "\"long\""
        }
       ],
       "type": "table"
      }
     },
     "output_type": "display_data"
    }
   ],
   "source": [
    "%sql\n",
    "--#Write a query to retrieve the top three cities that have the highest number of completed trade orders listed in descending order. Output the city name and the corresponding number of completed trade orders.\n",
    "\n",
    "SELECT u.city, count(*) as num_completed_trades\n",
    "from trades as t\n",
    "join users as u\n",
    "ON t.user_id = u.user_id\n",
    "where status='Completed'\n",
    "GROUP BY u.city\n",
    "ORDER BY num_completed_trades DESC\n",
    "LIMIT 3;"
   ]
  },
  {
   "cell_type": "code",
   "execution_count": 0,
   "metadata": {
    "application/vnd.databricks.v1+cell": {
     "cellMetadata": {
      "byteLimit": 2048000,
      "rowLimit": 10000
     },
     "inputWidgets": {},
     "nuid": "522712c7-985c-4526-ada2-92629de2f713",
     "showTitle": true,
     "title": "Query 02"
    }
   },
   "outputs": [
    {
     "output_type": "stream",
     "name": "stdout",
     "output_type": "stream",
     "text": [
      "+-------------+--------------------+\n|         city|num_completed_trades|\n+-------------+--------------------+\n|San Francisco|                   3|\n|       Boston|                   2|\n|       Denver|                   1|\n+-------------+--------------------+\n\n"
     ]
    }
   ],
   "source": [
    "#Write a query to retrieve the top three cities that have the highest number of completed trade orders listed in descending order. Output the city name and the corresponding number of completed trade orders.\n",
    "\n",
    "join_df = trades_df.join(users_df, trades_df.user_id == users_df.user_id)\n",
    "filter_df = join_df.filter(join_df.status == \"Completed\")\n",
    "count_df = filter_df.groupBy(\"city\").agg(count(\"*\").alias(\"num_completed_trades\"))\n",
    "order_df = count_df.sort(desc(\"num_completed_trades\"))\n",
    "\n",
    "result_df = order_df.limit(3)\n",
    "result_df.show()"
   ]
  }
 ],
 "metadata": {
  "application/vnd.databricks.v1+notebook": {
   "dashboards": [],
   "language": "python",
   "notebookMetadata": {
    "mostRecentlyExecutedCommandWithImplicitDF": {
     "commandId": 769829019192210,
     "dataframes": [
      "_sqldf"
     ]
    },
    "pythonIndentUnit": 4
   },
   "notebookName": "CaseStudy2",
   "notebookOrigID": 1039734205769041,
   "widgets": {}
  }
 },
 "nbformat": 4,
 "nbformat_minor": 0
}
